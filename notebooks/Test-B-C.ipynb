{
 "cells": [
  {
   "cell_type": "markdown",
   "id": "92dff71b-48ae-4be6-99df-9e2067169d70",
   "metadata": {},
   "source": [
    "test that B is consistent between $n=3$ and $n=5$, and reproduce a figure from [CDR]"
   ]
  },
  {
   "cell_type": "code",
   "execution_count": 1,
   "id": "07e4f236-6d3f-4bde-8ec2-f1362ab24199",
   "metadata": {},
   "outputs": [],
   "source": [
    "import sys\n",
    "sys.path.insert(0, \"/home/jens/PycharmProjects/arbfree-dyn-ns\")\n",
    "\n",
    "from IPython.display import clear_output\n",
    "import ipywidgets as widgets\n",
    "from pandas import Timestamp\n",
    "import statsmodels.api as sm\n",
    "\n",
    "from arbfree_dyn_ns import *"
   ]
  },
  {
   "cell_type": "code",
   "execution_count": 22,
   "id": "b03fe97e-e990-49bf-af97-42ca0e8d68b6",
   "metadata": {},
   "outputs": [],
   "source": [
    "Sigma5a = np.array([.005095, .01103, .7, .02647, .1])\n",
    "Sigma3a = Sigma5a[[0, 1, 3]]\n",
    "\n",
    "Sigma5 = np.diag(Sigma5a)\n",
    "Sigma3 = np.diag(Sigma3a)\n",
    "\n",
    "lambda1 = .5971\n",
    "lambda2 = .08"
   ]
  },
  {
   "cell_type": "code",
   "execution_count": 23,
   "id": "45f80769-eab1-4537-b0dd-059c17317861",
   "metadata": {},
   "outputs": [
    {
     "data": {
      "text/plain": [
       "array([[0.005095, 0.      , 0.      ],\n",
       "       [0.      , 0.01103 , 0.      ],\n",
       "       [0.      , 0.      , 0.02647 ]])"
      ]
     },
     "execution_count": 23,
     "metadata": {},
     "output_type": "execute_result"
    }
   ],
   "source": [
    "Sigma3"
   ]
  },
  {
   "cell_type": "code",
   "execution_count": 24,
   "id": "a00ef47a-fbed-4239-b402-707b06a370d5",
   "metadata": {},
   "outputs": [],
   "source": [
    "c3 = C_vector(lambda1, MAIN_GRID, None, Sigma3)\n",
    "c5 = C_vector(lambda1, MAIN_GRID, None, Sigma5, lambda2)"
   ]
  },
  {
   "cell_type": "code",
   "execution_count": 25,
   "id": "746f0b8e-644d-48e5-9499-36e61b09a2ac",
   "metadata": {},
   "outputs": [],
   "source": [
    "b3 = B_matrix(lambda1, MAIN_GRID)\n",
    "b5 = B_matrix(lambda1, MAIN_GRID, lambda2)"
   ]
  },
  {
   "cell_type": "code",
   "execution_count": 26,
   "id": "07204c6b-eb4d-4d50-8b5f-0dff632516cd",
   "metadata": {},
   "outputs": [
    {
     "data": {
      "text/html": [
       "<div>\n",
       "<style scoped>\n",
       "    .dataframe tbody tr th:only-of-type {\n",
       "        vertical-align: middle;\n",
       "    }\n",
       "\n",
       "    .dataframe tbody tr th {\n",
       "        vertical-align: top;\n",
       "    }\n",
       "\n",
       "    .dataframe thead th {\n",
       "        text-align: right;\n",
       "    }\n",
       "</style>\n",
       "<table border=\"1\" class=\"dataframe\">\n",
       "  <thead>\n",
       "    <tr style=\"text-align: right;\">\n",
       "      <th></th>\n",
       "      <th>0</th>\n",
       "      <th>1</th>\n",
       "      <th>2</th>\n",
       "    </tr>\n",
       "  </thead>\n",
       "  <tbody>\n",
       "    <tr>\n",
       "      <th>1.0</th>\n",
       "      <td>1.0</td>\n",
       "      <td>0.752963</td>\n",
       "      <td>0.202558</td>\n",
       "    </tr>\n",
       "    <tr>\n",
       "      <th>2.0</th>\n",
       "      <td>1.0</td>\n",
       "      <td>0.583699</td>\n",
       "      <td>0.280753</td>\n",
       "    </tr>\n",
       "    <tr>\n",
       "      <th>3.0</th>\n",
       "      <td>1.0</td>\n",
       "      <td>0.465169</td>\n",
       "      <td>0.298425</td>\n",
       "    </tr>\n",
       "    <tr>\n",
       "      <th>5.0</th>\n",
       "      <td>1.0</td>\n",
       "      <td>0.318032</td>\n",
       "      <td>0.267518</td>\n",
       "    </tr>\n",
       "    <tr>\n",
       "      <th>6.0</th>\n",
       "      <td>1.0</td>\n",
       "      <td>0.271366</td>\n",
       "      <td>0.243563</td>\n",
       "    </tr>\n",
       "    <tr>\n",
       "      <th>8.0</th>\n",
       "      <td>1.0</td>\n",
       "      <td>0.207582</td>\n",
       "      <td>0.199159</td>\n",
       "    </tr>\n",
       "    <tr>\n",
       "      <th>10.0</th>\n",
       "      <td>1.0</td>\n",
       "      <td>0.167049</td>\n",
       "      <td>0.164497</td>\n",
       "    </tr>\n",
       "    <tr>\n",
       "      <th>12.0</th>\n",
       "      <td>1.0</td>\n",
       "      <td>0.139456</td>\n",
       "      <td>0.138683</td>\n",
       "    </tr>\n",
       "    <tr>\n",
       "      <th>15.0</th>\n",
       "      <td>1.0</td>\n",
       "      <td>0.111636</td>\n",
       "      <td>0.111507</td>\n",
       "    </tr>\n",
       "    <tr>\n",
       "      <th>20.0</th>\n",
       "      <td>1.0</td>\n",
       "      <td>0.083738</td>\n",
       "      <td>0.083731</td>\n",
       "    </tr>\n",
       "    <tr>\n",
       "      <th>25.0</th>\n",
       "      <td>1.0</td>\n",
       "      <td>0.066990</td>\n",
       "      <td>0.066990</td>\n",
       "    </tr>\n",
       "  </tbody>\n",
       "</table>\n",
       "</div>"
      ],
      "text/plain": [
       "        0         1         2\n",
       "1.0   1.0  0.752963  0.202558\n",
       "2.0   1.0  0.583699  0.280753\n",
       "3.0   1.0  0.465169  0.298425\n",
       "5.0   1.0  0.318032  0.267518\n",
       "6.0   1.0  0.271366  0.243563\n",
       "8.0   1.0  0.207582  0.199159\n",
       "10.0  1.0  0.167049  0.164497\n",
       "12.0  1.0  0.139456  0.138683\n",
       "15.0  1.0  0.111636  0.111507\n",
       "20.0  1.0  0.083738  0.083731\n",
       "25.0  1.0  0.066990  0.066990"
      ]
     },
     "execution_count": 26,
     "metadata": {},
     "output_type": "execute_result"
    }
   ],
   "source": [
    "b3"
   ]
  },
  {
   "cell_type": "code",
   "execution_count": 27,
   "id": "b07f721f-4391-4722-9b17-f021f907b83c",
   "metadata": {},
   "outputs": [
    {
     "data": {
      "text/html": [
       "<div>\n",
       "<style scoped>\n",
       "    .dataframe tbody tr th:only-of-type {\n",
       "        vertical-align: middle;\n",
       "    }\n",
       "\n",
       "    .dataframe tbody tr th {\n",
       "        vertical-align: top;\n",
       "    }\n",
       "\n",
       "    .dataframe thead th {\n",
       "        text-align: right;\n",
       "    }\n",
       "</style>\n",
       "<table border=\"1\" class=\"dataframe\">\n",
       "  <thead>\n",
       "    <tr style=\"text-align: right;\">\n",
       "      <th></th>\n",
       "      <th>0</th>\n",
       "      <th>1</th>\n",
       "      <th>2</th>\n",
       "      <th>3</th>\n",
       "      <th>4</th>\n",
       "    </tr>\n",
       "  </thead>\n",
       "  <tbody>\n",
       "    <tr>\n",
       "      <th>1.0</th>\n",
       "      <td>1.0</td>\n",
       "      <td>0.752963</td>\n",
       "      <td>0.961046</td>\n",
       "      <td>0.202558</td>\n",
       "      <td>0.037929</td>\n",
       "    </tr>\n",
       "    <tr>\n",
       "      <th>2.0</th>\n",
       "      <td>1.0</td>\n",
       "      <td>0.583699</td>\n",
       "      <td>0.924101</td>\n",
       "      <td>0.280753</td>\n",
       "      <td>0.071958</td>\n",
       "    </tr>\n",
       "    <tr>\n",
       "      <th>3.0</th>\n",
       "      <td>1.0</td>\n",
       "      <td>0.465169</td>\n",
       "      <td>0.889051</td>\n",
       "      <td>0.298425</td>\n",
       "      <td>0.102423</td>\n",
       "    </tr>\n",
       "    <tr>\n",
       "      <th>5.0</th>\n",
       "      <td>1.0</td>\n",
       "      <td>0.318032</td>\n",
       "      <td>0.824200</td>\n",
       "      <td>0.267518</td>\n",
       "      <td>0.153880</td>\n",
       "    </tr>\n",
       "    <tr>\n",
       "      <th>6.0</th>\n",
       "      <td>1.0</td>\n",
       "      <td>0.271366</td>\n",
       "      <td>0.794201</td>\n",
       "      <td>0.243563</td>\n",
       "      <td>0.175418</td>\n",
       "    </tr>\n",
       "    <tr>\n",
       "      <th>8.0</th>\n",
       "      <td>1.0</td>\n",
       "      <td>0.207582</td>\n",
       "      <td>0.738606</td>\n",
       "      <td>0.199159</td>\n",
       "      <td>0.211313</td>\n",
       "    </tr>\n",
       "    <tr>\n",
       "      <th>10.0</th>\n",
       "      <td>1.0</td>\n",
       "      <td>0.167049</td>\n",
       "      <td>0.688339</td>\n",
       "      <td>0.164497</td>\n",
       "      <td>0.239010</td>\n",
       "    </tr>\n",
       "    <tr>\n",
       "      <th>12.0</th>\n",
       "      <td>1.0</td>\n",
       "      <td>0.139456</td>\n",
       "      <td>0.642820</td>\n",
       "      <td>0.138683</td>\n",
       "      <td>0.259927</td>\n",
       "    </tr>\n",
       "    <tr>\n",
       "      <th>15.0</th>\n",
       "      <td>1.0</td>\n",
       "      <td>0.111636</td>\n",
       "      <td>0.582338</td>\n",
       "      <td>0.111507</td>\n",
       "      <td>0.281144</td>\n",
       "    </tr>\n",
       "    <tr>\n",
       "      <th>20.0</th>\n",
       "      <td>1.0</td>\n",
       "      <td>0.083738</td>\n",
       "      <td>0.498815</td>\n",
       "      <td>0.083731</td>\n",
       "      <td>0.296918</td>\n",
       "    </tr>\n",
       "    <tr>\n",
       "      <th>25.0</th>\n",
       "      <td>1.0</td>\n",
       "      <td>0.066990</td>\n",
       "      <td>0.432332</td>\n",
       "      <td>0.066990</td>\n",
       "      <td>0.296997</td>\n",
       "    </tr>\n",
       "  </tbody>\n",
       "</table>\n",
       "</div>"
      ],
      "text/plain": [
       "        0         1         2         3         4\n",
       "1.0   1.0  0.752963  0.961046  0.202558  0.037929\n",
       "2.0   1.0  0.583699  0.924101  0.280753  0.071958\n",
       "3.0   1.0  0.465169  0.889051  0.298425  0.102423\n",
       "5.0   1.0  0.318032  0.824200  0.267518  0.153880\n",
       "6.0   1.0  0.271366  0.794201  0.243563  0.175418\n",
       "8.0   1.0  0.207582  0.738606  0.199159  0.211313\n",
       "10.0  1.0  0.167049  0.688339  0.164497  0.239010\n",
       "12.0  1.0  0.139456  0.642820  0.138683  0.259927\n",
       "15.0  1.0  0.111636  0.582338  0.111507  0.281144\n",
       "20.0  1.0  0.083738  0.498815  0.083731  0.296918\n",
       "25.0  1.0  0.066990  0.432332  0.066990  0.296997"
      ]
     },
     "execution_count": 27,
     "metadata": {},
     "output_type": "execute_result"
    }
   ],
   "source": [
    "b5"
   ]
  },
  {
   "cell_type": "markdown",
   "id": "99c858be-18a9-4033-b26d-ff5608c9d713",
   "metadata": {},
   "source": [
    "Reproduce [CDR], p. 19, Fig. 1"
   ]
  },
  {
   "cell_type": "code",
   "execution_count": 29,
   "id": "ca5dc9db-2f53-4819-8be7-62d76648af5f",
   "metadata": {},
   "outputs": [
    {
     "data": {
      "text/plain": [
       "30   -0.004882\n",
       "dtype: float64"
      ]
     },
     "execution_count": 29,
     "metadata": {},
     "output_type": "execute_result"
    }
   ],
   "source": [
    "C_vector(lambda1, [30], None, Sigma3)"
   ]
  },
  {
   "cell_type": "code",
   "execution_count": 30,
   "id": "1d4f2be3-e1c3-4650-bb56-6663bb7a84ee",
   "metadata": {},
   "outputs": [
    {
     "data": {
      "text/plain": [
       "<Axes: >"
      ]
     },
     "execution_count": 30,
     "metadata": {},
     "output_type": "execute_result"
    },
    {
     "data": {
      "image/png": "[encoded data removed]",
      "text/plain": [
       "<Figure size 640x480 with 1 Axes>"
      ]
     },
     "metadata": {},
     "output_type": "display_data"
    }
   ],
   "source": [
    "c3.rename(\"c3\").plot()"
   ]
  }
 ],
 "metadata": {
  "kernelspec": {
   "display_name": "Python 3 (ipykernel)",
   "language": "python",
   "name": "python3"
  },
  "language_info": {
   "codemirror_mode": {
    "name": "ipython",
    "version": 3
   },
   "file_extension": ".py",
   "mimetype": "text/x-python",
   "name": "python",
   "nbconvert_exporter": "python",
   "pygments_lexer": "ipython3",
   "version": "3.10.12"
  }
 },
 "nbformat": 4,
 "nbformat_minor": 5
}
